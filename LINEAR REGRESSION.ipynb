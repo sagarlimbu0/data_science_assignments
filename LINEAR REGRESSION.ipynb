{
 "cells": [
  {
   "cell_type": "code",
   "execution_count": 14,
   "metadata": {},
   "outputs": [],
   "source": [
    "# LINEAR regression, \n",
    "# classification is similar to LINEAR REGRESSION\n",
    "\n",
    "    # EG: in real life, home price, where slope gives the idea of falling prices \n",
    "#TWO Types of data in LINEAR REGRESSION\n",
    "#SUpervised Learning, with training points\n",
    "    #RG: different types of fishes, and data provided with type of fish<(SIMILARITIES)\n",
    "    \n",
    "# UNsupervised Learning, aka CLUSTERING, with no Training points, you learn as you go\n",
    "    #EG: different types of animals\n",
    "    "
   ]
  },
  {
   "cell_type": "code",
   "execution_count": 15,
   "metadata": {},
   "outputs": [
    {
     "data": {
      "image/png": "[encoded data removed]",
      "text/plain": [
       "<Figure size 432x288 with 1 Axes>"
      ]
     },
     "metadata": {
      "needs_background": "light"
     },
     "output_type": "display_data"
    }
   ],
   "source": [
    "import matplotlib.pyplot as plt\n",
    "#regression exmaple\n",
    "x=[2,3,4,5]\n",
    "y=[2,3.2,4.2,5]\n",
    "\n",
    "plt.xlabel(\"AGE\", fontsize=16)\n",
    "plt.ylabel(\"math grade level\", fontsize=16)\n",
    "plt.scatter(x,y)\n",
    "plt.grid()"
   ]
  },
  {
   "cell_type": "code",
   "execution_count": 8,
   "metadata": {},
   "outputs": [],
   "source": [
    "#CONLCUSION: AS age increases math grade level increases"
   ]
  },
  {
   "cell_type": "code",
   "execution_count": 9,
   "metadata": {},
   "outputs": [
    {
     "data": {
      "image/png": "[encoded data removed]",
      "text/plain": [
       "<Figure size 432x288 with 1 Axes>"
      ]
     },
     "metadata": {
      "needs_background": "light"
     },
     "output_type": "display_data"
    }
   ],
   "source": [
    "x=[2,3,4,5]\n",
    "y=[2,3.2,4.2,5]\n",
    "\n",
    "plt.xlabel(\"Math grade Level\", fontsize=16)\n",
    "plt.ylabel(\"AGE\", fontsize=16)\n",
    "plt.scatter(x,y)\n",
    "plt.grid()"
   ]
  },
  {
   "cell_type": "code",
   "execution_count": 10,
   "metadata": {},
   "outputs": [],
   "source": [
    "# Conlcusion: as math grade level increase, your age also increases"
   ]
  },
  {
   "cell_type": "code",
   "execution_count": 11,
   "metadata": {},
   "outputs": [],
   "source": [
    "#NOTE: BEST PRACTICES, Always to PUT INDEPENDENT variable on X-AXIS"
   ]
  },
  {
   "cell_type": "code",
   "execution_count": null,
   "metadata": {},
   "outputs": [],
   "source": []
  },
  {
   "cell_type": "code",
   "execution_count": 13,
   "metadata": {},
   "outputs": [
    {
     "ename": "TypeError",
     "evalue": "linregress() missing 1 required positional argument: 'x'",
     "output_type": "error",
     "traceback": [
      "\u001b[1;31m---------------------------------------------------------------------------\u001b[0m",
      "\u001b[1;31mTypeError\u001b[0m                                 Traceback (most recent call last)",
      "\u001b[1;32m<ipython-input-13-f56e9002fc33>\u001b[0m in \u001b[0;36m<module>\u001b[1;34m\u001b[0m\n\u001b[0;32m      6\u001b[0m \u001b[1;33m\u001b[0m\u001b[0m\n\u001b[0;32m      7\u001b[0m \u001b[1;32mfrom\u001b[0m \u001b[0mscipy\u001b[0m\u001b[1;33m.\u001b[0m\u001b[0mstats\u001b[0m \u001b[1;32mimport\u001b[0m \u001b[0mlinregress\u001b[0m\u001b[1;33m\u001b[0m\u001b[1;33m\u001b[0m\u001b[0m\n\u001b[1;32m----> 8\u001b[1;33m \u001b[0mlinregress\u001b[0m\u001b[1;33m(\u001b[0m\u001b[1;33m)\u001b[0m\u001b[1;33m\u001b[0m\u001b[1;33m\u001b[0m\u001b[0m\n\u001b[0m",
      "\u001b[1;31mTypeError\u001b[0m: linregress() missing 1 required positional argument: 'x'"
     ]
    }
   ],
   "source": [
    "#IMPORTING FILES TO \n",
    "# FORMTATING THE DATA [$5002.00, $340000]\n",
    "# CREATING array by formating\n",
    "#y= [float(p.strip('$').replace(\",\",\"\")) for p in homes[\"PRICES\"]]\n",
    "# CHECK if the dependent and independent data are co-rrelated\n",
    "\n",
    "from scipy.stats import linregress \n",
    "linregress()"
   ]
  },
  {
   "cell_type": "code",
   "execution_count": null,
   "metadata": {},
   "outputs": [],
   "source": []
  }
 ],
 "metadata": {
  "kernelspec": {
   "display_name": "Python 3",
   "language": "python",
   "name": "python3"
  },
  "language_info": {
   "codemirror_mode": {
    "name": "ipython",
    "version": 3
   },
   "file_extension": ".py",
   "mimetype": "text/x-python",
   "name": "python",
   "nbconvert_exporter": "python",
   "pygments_lexer": "ipython3",
   "version": "3.7.6"
  }
 },
 "nbformat": 4,
 "nbformat_minor": 4
}
