{
 "cells": [
  {
   "cell_type": "code",
   "execution_count": 3,
   "metadata": {},
   "outputs": [],
   "source": [
    "# assignment_ADVANCED regression, using REgression CSV file\n",
    "\n",
    "import numpy as np\n",
    "import pandas as pd\n",
    "import matplotlib.pyplot as plt\n"
   ]
  },
  {
   "cell_type": "code",
   "execution_count": 4,
   "metadata": {},
   "outputs": [
    {
     "data": {
      "image/png": "[encoded data removed]",
      "text/plain": [
       "<Figure size 720x360 with 1 Axes>"
      ]
     },
     "metadata": {
      "needs_background": "light"
     },
     "output_type": "display_data"
    }
   ],
   "source": [
    "df_reg= pd.read_csv(\"regression-data-set.csv\")\n",
    "\n",
    "xval=df_reg[\"x\"]\n",
    "yval=df_reg[\"y\"]\n",
    "\n",
    "# find the scatter plot\n",
    "\n",
    "plt.scatter(xval, yval, label=\"Regression count\")\n",
    "plt.grid()\n",
    "plt.gcf().set_size_inches(10,5)"
   ]
  },
  {
   "cell_type": "code",
   "execution_count": 43,
   "metadata": {},
   "outputs": [],
   "source": [
    "# now define the functions fo the sigmoid, sprime, and S\n",
    "\n",
    "def sigmoid(x):\n",
    "    return (1/( 1 + np.exp(-x)))\n",
    "\n",
    "def sprime(x):\n",
    "    return (sigmoid(x)* (1-sigmoid(x)))\n",
    "\n",
    "# finding the parameter (a,b,c) with optimized curve fit mode\n",
    "def S(x,a,b,c,d):\n",
    "    return (c* sprime(a+b*x +d*x*x))"
   ]
  },
  {
   "cell_type": "code",
   "execution_count": 44,
   "metadata": {},
   "outputs": [],
   "source": [
    "# having the right guess will fit the situation S(x) very closely to numerical data"
   ]
  },
  {
   "cell_type": "code",
   "execution_count": 45,
   "metadata": {},
   "outputs": [
    {
     "data": {
      "image/png": "[encoded data removed]",
      "text/plain": [
       "<Figure size 720x360 with 1 Axes>"
      ]
     },
     "metadata": {
      "needs_background": "light"
     },
     "output_type": "display_data"
    }
   ],
   "source": [
    "# using linspace to guess the data \n",
    "xplot= np.linspace(-10,10,100)\n",
    "\n",
    "#using the defined functions\n",
    "plt.plot(xplot, sigmoid(xplot), color=\"red\")\n",
    "plt.plot(xplot, sprime(xplot))\n",
    "plt.plot(xplot, S(xplot, 10,2,3,.4))\n",
    "plt.grid()\n",
    "plt.gcf().set_size_inches(10,5)"
   ]
  },
  {
   "cell_type": "code",
   "execution_count": 68,
   "metadata": {},
   "outputs": [],
   "source": [
    "# splitting the data sets into TRAIN and TEST data sets\n",
    "from sklearn.model_selection import train_test_split\n",
    "#importing the optimezed curve\n",
    "from scipy.optimize import curve_fit\n",
    "from sklearn.metrics import mean_squared_error\n",
    "import math\n",
    "xtrain, xtest, ytrain, ytest= train_test_split(xval, yval)\n",
    "\n",
    "#finding the CURVE of cos function\n",
    "\n",
    "def curve(x, a, b, c, d):\n",
    "    return a+b * np.cos(c * x +d)\n",
    "  "
   ]
  },
  {
   "cell_type": "code",
   "execution_count": 69,
   "metadata": {},
   "outputs": [
    {
     "data": {
      "text/plain": [
       "(75, 25, 75, 25)"
      ]
     },
     "execution_count": 69,
     "metadata": {},
     "output_type": "execute_result"
    }
   ],
   "source": [
    "len(xtrain), len(xtest), len(ytrain), len(ytest)"
   ]
  },
  {
   "cell_type": "code",
   "execution_count": 70,
   "metadata": {},
   "outputs": [],
   "source": [
    "# finding the parameters using the TRAIN SET curve FIT\n",
    "parameters, M = curve_fit(curve, xtrain, ytrain)"
   ]
  },
  {
   "cell_type": "code",
   "execution_count": 72,
   "metadata": {},
   "outputs": [
    {
     "ename": "TypeError",
     "evalue": "curve() missing 1 required positional argument: 'd'",
     "output_type": "error",
     "traceback": [
      "\u001b[1;31m---------------------------------------------------------------------------\u001b[0m",
      "\u001b[1;31mTypeError\u001b[0m                                 Traceback (most recent call last)",
      "\u001b[1;32m<ipython-input-72-c066435974e3>\u001b[0m in \u001b[0;36m<module>\u001b[1;34m\u001b[0m\n\u001b[0;32m      5\u001b[0m \u001b[0mxplot\u001b[0m\u001b[1;33m=\u001b[0m \u001b[0mnp\u001b[0m\u001b[1;33m.\u001b[0m\u001b[0mlinspace\u001b[0m\u001b[1;33m(\u001b[0m\u001b[1;36m0\u001b[0m\u001b[1;33m,\u001b[0m\u001b[1;36m60\u001b[0m\u001b[1;33m,\u001b[0m\u001b[1;36m100\u001b[0m\u001b[1;33m)\u001b[0m\u001b[1;33m\u001b[0m\u001b[1;33m\u001b[0m\u001b[0m\n\u001b[0;32m      6\u001b[0m \u001b[1;31m#find optimized curve with S function\u001b[0m\u001b[1;33m\u001b[0m\u001b[1;33m\u001b[0m\u001b[1;33m\u001b[0m\u001b[0m\n\u001b[1;32m----> 7\u001b[1;33m \u001b[0myplot\u001b[0m\u001b[1;33m=\u001b[0m \u001b[0mcurve\u001b[0m \u001b[1;33m(\u001b[0m\u001b[0mxplot\u001b[0m\u001b[1;33m,\u001b[0m \u001b[0ma\u001b[0m\u001b[1;33m,\u001b[0m \u001b[0mb\u001b[0m\u001b[1;33m,\u001b[0m \u001b[0mc\u001b[0m\u001b[1;33m)\u001b[0m\u001b[1;33m\u001b[0m\u001b[1;33m\u001b[0m\u001b[0m\n\u001b[0m\u001b[0;32m      8\u001b[0m \u001b[1;33m\u001b[0m\u001b[0m\n\u001b[0;32m      9\u001b[0m \u001b[1;31m#plt.plot(xplot, yplot, marker='o')\u001b[0m\u001b[1;33m\u001b[0m\u001b[1;33m\u001b[0m\u001b[1;33m\u001b[0m\u001b[0m\n",
      "\u001b[1;31mTypeError\u001b[0m: curve() missing 1 required positional argument: 'd'"
     ]
    }
   ],
   "source": [
    "# EXtract the parameters \n",
    "a,b,c,d=parameters\n",
    "\n",
    "# FIT the data using the TRAINING SET and scipy.optimize.curve_fit\n",
    "xplot= np.linspace(0,60,100)\n",
    "#find optimized curve with S function\n",
    "yplot= curve (xplot, a, b, c)\n",
    "\n",
    "#plt.plot(xplot, yplot, marker='o')\n",
    "\n"
   ]
  },
  {
   "cell_type": "code",
   "execution_count": 55,
   "metadata": {},
   "outputs": [
    {
     "name": "stdout",
     "output_type": "stream",
     "text": [
      "v:  0.018637178737849192\n"
     ]
    }
   ],
   "source": [
    "#Calculate the MSE with the optimized parameters on the 'TEST SET'\n",
    "#MSE- MEAN SQUARED ERROR\n",
    "\n",
    "#creat a function that takes different degree And RETURNS ERROR for that degree\n",
    "\n",
    "def poly_function(x, y, degree):\n",
    "    #split the data into TRAIN and TEST data sets\n",
    "    xtrain, xtest, ytrain, ytest= train_test_split(x,y) #75% to TRAIN, 25% to TEST\n",
    "    \n",
    "    #create poly fit from the xtrain and ytrain value\n",
    "    fit_model= np.polyfit(xtrain,ytrain, degree)\n",
    "    #predicted y value, Using the fit and xtest data set\n",
    "    ypredict= np.polyval(fit_model, xtest)\n",
    "    \n",
    "    #mean squared errors, append the errors\n",
    "    MSE= mean_squared_error(ytest, ypredict)\n",
    "    return (MSE)\n",
    "\n",
    "# test with degree of 2\n",
    "print(\"v: \",poly_function(xval, yval, 2))\n"
   ]
  },
  {
   "cell_type": "code",
   "execution_count": null,
   "metadata": {},
   "outputs": [],
   "source": [
    "# REPEAT over 100 iterations and calculate the mean and standard deviation"
   ]
  },
  {
   "cell_type": "code",
   "execution_count": null,
   "metadata": {},
   "outputs": [],
   "source": []
  }
 ],
 "metadata": {
  "kernelspec": {
   "display_name": "Python 3",
   "language": "python",
   "name": "python3"
  },
  "language_info": {
   "codemirror_mode": {
    "name": "ipython",
    "version": 3
   },
   "file_extension": ".py",
   "mimetype": "text/x-python",
   "name": "python",
   "nbconvert_exporter": "python",
   "pygments_lexer": "ipython3",
   "version": "3.8.3"
  }
 },
 "nbformat": 4,
 "nbformat_minor": 4
}
